{
 "cells": [
  {
   "cell_type": "code",
   "execution_count": 19,
   "metadata": {},
   "outputs": [
    {
     "name": "stdout",
     "output_type": "stream",
     "text": [
      "Test accuracy : 0.7856045384706299\n",
      "Feature weights (bias last) :  0.0 -7.0 -2.0 4.0 2.0 0.0 3.0 -1.0 3.0 7.0 3.0 -1.0 -1.0 0.0 -7.0 3.0 1.0 -2.0 2.0 -5.0 1.0 -2.0 -1.0 2.0 -1.0 3.0 -1.0 -5.0 4.0 1.0 1.0 1.0 5.0 -2.0 -4.0 -8.0 -1.0 1.0 2.0 3.0 6.0 -1.0 -5.0 -2.0 -1.0 -3.0 3.0 3.0 0.0 0.0 2.0 10.0 -2.0 -1.0 0.0 0.0 -6.0 0.0 0.0 7.0 0.0 6.0 0.0 -1.0 -4.0 -3.0 -1.0 1.0 3.0 -3.0 -2.0 -2.0 -4.0 1.0 -7.0 4.0 -5.0 2.0 -5.0 1.0 -1.0 -1.0 3.0 6.0 1.0 1.0 -4.0 3.0 0.0 0.0 -7.0 3.0 -1.0 -2.0 -1.0 4.0 -1.0 0.0 4.0 1.0 1.0 -1.0 -2.0 0.0 -1.0 1.0 0.0 -2.0 0.0 2.0 1.0 0.0 -4.0 -1.0 1.0 1.0 2.0 -1.0 2.0 1.0 -1.0 -1.0 -1.0 -3.0\n"
     ]
    }
   ],
   "source": [
    "%matplotlib inline\n",
    "import numpy as np\n",
    "import matplotlib.pyplot as plt\n",
    "\n",
    "def ReadData(path):\n",
    "    data = open(path, \"r\")\n",
    "    lines = []\n",
    "    for line in data:\n",
    "        lines.append(line)\n",
    "    \n",
    "    FeatureArrayPlus = np.zeros((len(lines),124))\n",
    "    Label = []\n",
    "        \n",
    "    for j in range(0,len(lines)):\n",
    "        RatioSet = lines[j].split()\n",
    "        Label.append(int(RatioSet[0]))\n",
    "        for i in range(1, len(RatioSet)):  \n",
    "            SingleSet = RatioSet[i].split(':')\n",
    "            position = int(SingleSet[0])\n",
    "            FeatureArrayPlus[j, position] = 1\n",
    "            FeatureArrayPlus[j, -1] = 1\n",
    "    return FeatureArrayPlus, Label\n",
    "\n",
    "def Train(FeatureArray, Label, eta, iterations):\n",
    "    weights = np.zeros(len(FeatureArray[0,:]))\n",
    "    for i in range(iterations):\n",
    "        for j in range(0, len(FeatureArray[:,0])):\n",
    "            DotProduct = np.dot(weights, FeatureArray[j,:])\n",
    "            sign = np.sign(DotProduct)\n",
    "            if sign!= Label[j]:\n",
    "                weights = weights + eta*Label[j]*FeatureArray[j,:]\n",
    "    return weights   \n",
    "    \n",
    "def Test(FeatureArraytest, Labeltest, eta):\n",
    "    Count = 0 \n",
    "    right = 0\n",
    "    for j in range(0, len(FeatureArraytest[:,0])):\n",
    "        DotProduct = np.dot( weights, FeatureArraytest[j,:])\n",
    "        sign = np.sign(DotProduct)\n",
    "        Count=Count+1\n",
    "        if sign == Labeltest[j] :\n",
    "            right=right+1\n",
    "    Accuracy = right/Count\n",
    "    return Accuracy\n",
    "\n",
    "FeatureArray, Label = ReadData('a7a.train')  ### Reading the traning data \n",
    "eta =1\n",
    "iterations = 1\n",
    "weights = Train (FeatureArray, Label, eta, iterations)  ### Traning using perceptron \n",
    "        \n",
    "FeatureArraytest, Labeltest = ReadData('a7a.test')  ### Reading the test data\n",
    "Accuracy = Test(FeatureArraytest, Labeltest, eta)\n",
    "\n",
    "print('Test accuracy :' , Accuracy) \n",
    "print('Feature weights (bias last) : ',  *weights)"
   ]
  },
  {
   "cell_type": "code",
   "execution_count": null,
   "metadata": {
    "collapsed": true
   },
   "outputs": [],
   "source": []
  },
  {
   "cell_type": "code",
   "execution_count": null,
   "metadata": {
    "collapsed": true
   },
   "outputs": [],
   "source": []
  }
 ],
 "metadata": {
  "kernelspec": {
   "display_name": "Python 3",
   "language": "python",
   "name": "python3"
  },
  "language_info": {
   "codemirror_mode": {
    "name": "ipython",
    "version": 3
   },
   "file_extension": ".py",
   "mimetype": "text/x-python",
   "name": "python",
   "nbconvert_exporter": "python",
   "pygments_lexer": "ipython3",
   "version": "3.6.1"
  }
 },
 "nbformat": 4,
 "nbformat_minor": 2
}
