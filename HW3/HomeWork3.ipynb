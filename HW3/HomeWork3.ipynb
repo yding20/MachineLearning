{
 "cells": [
  {
   "cell_type": "code",
   "execution_count": 39,
   "metadata": {},
   "outputs": [
    {
     "name": "stdout",
     "output_type": "stream",
     "text": [
      "Test accuracy : 0.8331166528779104\n",
      "Feature weights (bias first) :  -0.7812 -1.69600766711 -0.569561564554 0.416165532421 0.819227265514 0.303400475127 0.330135283419 -0.489154037878 0.747717861611 1.05961638714 0.181082593562 -0.328537571803 -0.170695700378 0.0 -1.3582263295 0.612126169212 0.0993226632443 -0.343724902783 0.263726441223 -0.485130750249 0.0972971562624 -0.00321169164098 -0.0549230341729 0.458829048135 -0.340903460772 0.164873736228 -0.0581952020139 -0.586142085022 0.350233648527 0.0876962882506 -0.160875341836 -0.330251780439 0.782548454517 -0.4016856553 -0.246935289074 -1.4370633968 -0.0549230341729 0.0972971562624 -0.176029724544 0.843943040653 1.18102776249 -0.298748329778 -1.06172472818 -0.497481264735 0.100036951705 -0.323380230822 0.173493880718 0.620967948132 0.172896538393 -0.712973608589 0.57476456784 1.64762192133 0.0313697436246 -0.300116851139 -0.225518658982 0.242637881738 -1.21723290617 -0.416171486036 -0.248661022321 1.16058074784 0.0 1.18725474128 -0.390913519619 -0.0903968435992 -0.494329571577 -0.64327556053 -0.295115204555 -0.186934771121 0.685388716043 -0.552285616364 -0.402921828842 -0.270022458316 -0.722670884059 -0.00410507454179 -1.3705643116 0.643788353001 -1.04729036627 0.320514407671 -1.20334039721 0.0162645271957 -0.337985667077 0.22860201214 0.569683566351 0.843729606004 0.174883884711 0.177068105325 -0.409791340394 0.635898506466 -0.0814411621051 0.0 -0.812426647784 0.15375128754 -0.0837010857641 -0.162319513568 -0.24170332459 0.0204035427924 -0.0826168228425 0.0 0.496607547018 0.320246730264 0.168099251837 0.0669908272259 -0.238921062528 -0.409903091964 -0.0796471565583 0.161136976768 -0.0796714241705 -0.331108380744 0.0 0.0944149901446 -0.00267708357697 -0.00518838852679 -0.239954647139 -0.0792536183927 0.00160068965414 0.00155511411771 0.0867461035289 0.0016149048866 0.244380528531 -0.403715326471 -0.0844699195411 0.00067165610994 0.0809302248994 0.0\n"
     ]
    }
   ],
   "source": [
    "%matplotlib inline\n",
    "import numpy as np\n",
    "import matplotlib.pyplot as plt\n",
    "\n",
    "def ReadData(path):\n",
    "    data = open(path, \"r\")\n",
    "    lines = []\n",
    "    for line in data:\n",
    "        lines.append(line)\n",
    "    \n",
    "    FeatureArrayPlus = np.zeros((len(lines),124))\n",
    "    Label = []\n",
    "        \n",
    "    for j in range(0,len(lines)):\n",
    "        RatioSet = lines[j].split()\n",
    "        Label.append(int(RatioSet[0]))\n",
    "        for i in range(1, len(RatioSet)):  \n",
    "            SingleSet = RatioSet[i].split(':')\n",
    "            position = int(SingleSet[0])\n",
    "            FeatureArrayPlus[j, position] = 1\n",
    "            FeatureArrayPlus[j, 0] = 1\n",
    "    return FeatureArrayPlus, Label\n",
    "\n",
    "def Train(FeatureArray, Label, eta, iterations):\n",
    "    weights = np.zeros(len(FeatureArray[0,:]))\n",
    "    for i in range(iterations):\n",
    "        for j in range(0, len(FeatureArray[:,0])):\n",
    "            DotProduct = np.dot(weights, FeatureArray[j,:])\n",
    "            if DotProduct*Label[j] <= 1  :\n",
    "                weights[1:] = weights[1:] - 1/len(FeatureArray[:,1])*eta*weights[1:] + 0.868*eta*Label[j]*FeatureArray[j,1:]\n",
    "                weights[0] = weights[0]+0.868*eta*Label[j]*FeatureArray[j,0]\n",
    "            else:\n",
    "                weights[1:] = weights[1:] - 1/len(FeatureArray[:,1])*eta*weights[1:]\n",
    "    return weights   \n",
    "    \n",
    "def Test(FeatureArraytest, Labeltest, eta):\n",
    "    Count = 0 \n",
    "    right = 0\n",
    "    for j in range(0, len(FeatureArraytest[:,0])):\n",
    "        DotProduct = np.dot( weights, FeatureArraytest[j,:])\n",
    "        sign = np.sign(DotProduct)\n",
    "        Count=Count+1\n",
    "        if sign*Labeltest[j] >=0 :\n",
    "            right=right+1\n",
    "    Accuracy = right/Count\n",
    "    return Accuracy\n",
    "\n",
    "FeatureArray, Label = ReadData('a7a.train')  ### Reading the traning data \n",
    "eta =0.1\n",
    "iterations = 1\n",
    "weights = Train (FeatureArray, Label, eta, iterations)  ### Traning using perceptron \n",
    "        \n",
    "FeatureArraytest, Labeltest = ReadData('a7a.test')  ### Reading the test data\n",
    "Accuracy = Test(FeatureArraytest, Labeltest, eta)\n",
    "\n",
    "print('Test accuracy :' , Accuracy) \n",
    "print('Feature weights (bias first) : ',  *weights)"
   ]
  },
  {
   "cell_type": "code",
   "execution_count": null,
   "metadata": {
    "collapsed": true
   },
   "outputs": [],
   "source": []
  },
  {
   "cell_type": "code",
   "execution_count": null,
   "metadata": {
    "collapsed": true
   },
   "outputs": [],
   "source": []
  }
 ],
 "metadata": {
  "kernelspec": {
   "display_name": "Python 3",
   "language": "python",
   "name": "python3"
  },
  "language_info": {
   "codemirror_mode": {
    "name": "ipython",
    "version": 3
   },
   "file_extension": ".py",
   "mimetype": "text/x-python",
   "name": "python",
   "nbconvert_exporter": "python",
   "pygments_lexer": "ipython3",
   "version": "3.6.1"
  }
 },
 "nbformat": 4,
 "nbformat_minor": 2
}
