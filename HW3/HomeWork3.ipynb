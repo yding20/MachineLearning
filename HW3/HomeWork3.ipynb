{
 "cells": [
  {
   "cell_type": "code",
   "execution_count": 17,
   "metadata": {},
   "outputs": [
    {
     "name": "stdout",
     "output_type": "stream",
     "text": [
      "Test accuracy : 0.7809951542370878\n",
      "Feature weights (bias last) :  0.0 -0.0249121881979 -0.0739625490859 0.132929231539 -0.0662513774612 -0.0364257842142 -0.0865134075856 -0.0468256873394 0.100543045035 6.55045647446e-09 0.00709798935671 -4.31032287606e-09 -8.98144994103e-09 -1.97626258336e-323 -0.110879590065 -0.0274415453067 0.0179489963583 -0.0460466801384 0.097796151731 0.0345540119616 -0.00264618037203 -0.000304778223062 0.0225190781829 -0.0429607670475 -0.0352552591893 -0.00448208744783 -0.000800090220389 -1.76964354623e-05 -0.0178744504614 0.0076570654883 -3.34400790075e-17 -0.06622806196 0.0372502448478 -3.36965440664e-05 -7.41612641825e-97 -0.0852587738444 0.0225190781829 -0.00264618037203 -0.0397373466372 0.0365005552502 0.176583590385 -0.0775094615298 -0.051907351103 -0.025429107855 -0.0901617250343 -0.000198612283365 1.74067422381e-61 -0.0387420488999 0.0149778880321 -0.0091583116477 0.00242107356703 0.120306786046 -0.0443522156452 -0.0598308723386 0.0705753259503 -0.0551334382976 -3.98672404159e-07 -0.0100742196499 -4.08561586392e-26 -0.016687635719 -3.74649979241e-320 0.132615054912 -0.0283635161889 0.0439685354565 -0.103732218277 -0.00121494684472 -0.111895576478 0.020834352522 -2.34751118238e-07 -0.059049 -4.42258184299e-14 -0.0304077851914 -0.0288221350719 -0.0398005323487 -0.155490567782 0.0868679003619 -0.0689609792806 0.0003383118601 -0.00936429894146 -0.0240185050537 -0.00813788329825 0.0213893751744 -0.0484913553016 -0.0455385589879 1.61397580522e-11 -2.46726296561e-52 -7.07604107928e-52 -7.71959624312e-12 -3.54108348354e-11 -1.89898514898e-21 8.15765976551e-29 -7.58636507078e-20 -2.53891971983e-57 2.07356765971e-29 7.11997572342e-31 1.08968403144e-16 4.88222732115e-139 -0.000304325272217 -2.07898051036e-22 -1.18237344383e-07 -0.000375710212614 -3.13163906181e-09 6.44776483922e-10 -3.98672422777e-07 4.77188817944e-112 -7.31826931776e-91 -2.04198909499e-30 -0.00717897987692 -1.4716245151e-120 6.78559726489e-41 -8.47180092541e-54 -7.33338428564e-84 -6.64873118458e-08 7.38558690518e-111 1.0919346372e-09 -3.6159327291e-185 2.65613988876e-06 -8.80599222498e-127 3.36052663867e-25 -1.94207916858e-47 -2.5122015783e-58 -3.64683250804e-54 -2.35412034712e-07 -0.0686226674205\n"
     ]
    }
   ],
   "source": [
    "%matplotlib inline\n",
    "import numpy as np\n",
    "import matplotlib.pyplot as plt\n",
    "\n",
    "def ReadData(path):\n",
    "    data = open(path, \"r\")\n",
    "    lines = []\n",
    "    for line in data:\n",
    "        lines.append(line)\n",
    "    \n",
    "    FeatureArrayPlus = np.zeros((len(lines),124))\n",
    "    Label = []\n",
    "        \n",
    "    for j in range(0,len(lines)):\n",
    "        RatioSet = lines[j].split()\n",
    "        Label.append(int(RatioSet[0]))\n",
    "        for i in range(1, len(RatioSet)):  \n",
    "            SingleSet = RatioSet[i].split(':')\n",
    "            position = int(SingleSet[0])\n",
    "            FeatureArrayPlus[j, position] = 1\n",
    "            FeatureArrayPlus[j, -1] = 1\n",
    "    return FeatureArrayPlus, Label\n",
    "\n",
    "def Train(FeatureArray, Label, eta, iterations):\n",
    "    weights = np.zeros(len(FeatureArray[0,:]))\n",
    "    for i in range(iterations):\n",
    "        for j in range(0, len(FeatureArray[:,0])):\n",
    "            DotProduct = np.dot(weights, FeatureArray[j,:])\n",
    "            if DotProduct*Label[j] < 1  :\n",
    "                weights = weights - eta*weights + eta*Label[j]*FeatureArray[j,:]\n",
    "            else:\n",
    "                weights = weights - eta*weights\n",
    "    return weights   \n",
    "    \n",
    "def Test(FeatureArraytest, Labeltest, eta):\n",
    "    Count = 0 \n",
    "    right = 0\n",
    "    for j in range(0, len(FeatureArraytest[:,0])):\n",
    "        DotProduct = np.dot( weights, FeatureArraytest[j,:])\n",
    "        sign = np.sign(DotProduct)\n",
    "        Count=Count+1\n",
    "        if sign*Labeltest[j] >=0 :\n",
    "            right=right+1\n",
    "    Accuracy = right/Count\n",
    "    return Accuracy\n",
    "\n",
    "FeatureArray, Label = ReadData('a7a.train')  ### Reading the traning data \n",
    "eta =0.1\n",
    "iterations = 1\n",
    "weights = Train (FeatureArray, Label, eta, iterations)  ### Traning using perceptron \n",
    "        \n",
    "FeatureArraytest, Labeltest = ReadData('a7a.test')  ### Reading the test data\n",
    "Accuracy = Test(FeatureArraytest, Labeltest, eta)\n",
    "\n",
    "print('Test accuracy :' , Accuracy) \n",
    "print('Feature weights (bias last) : ',  *weights)"
   ]
  },
  {
   "cell_type": "code",
   "execution_count": null,
   "metadata": {
    "collapsed": true
   },
   "outputs": [],
   "source": []
  },
  {
   "cell_type": "code",
   "execution_count": null,
   "metadata": {
    "collapsed": true
   },
   "outputs": [],
   "source": []
  }
 ],
 "metadata": {
  "kernelspec": {
   "display_name": "Python 3",
   "language": "python",
   "name": "python3"
  },
  "language_info": {
   "codemirror_mode": {
    "name": "ipython",
    "version": 3
   },
   "file_extension": ".py",
   "mimetype": "text/x-python",
   "name": "python",
   "nbconvert_exporter": "python",
   "pygments_lexer": "ipython3",
   "version": "3.6.1"
  }
 },
 "nbformat": 4,
 "nbformat_minor": 2
}
